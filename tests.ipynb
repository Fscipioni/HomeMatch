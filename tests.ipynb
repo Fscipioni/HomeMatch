{
 "cells": [
  {
   "cell_type": "code",
   "execution_count": null,
   "metadata": {},
   "outputs": [],
   "source": [
    "import json\n",
    "import openai\n",
    "import time\n",
    "import re\n",
    "\n",
    "# OpenAI API setup\n",
    "openai.api_base = \"https://openai.vocareum.com/v1\"\n",
    "api_key = \"voc-615907097126677342454766bbd54dcda1a5.27571968\"\n",
    "openai.api_key = api_key\n",
    "\n",
    "# Number of listings to generate\n",
    "TOTAL_LISTINGS = 100  \n",
    "BATCH_SIZE = 50  # Generate 50 at a time\n",
    "OUTPUT_FILE = \"listings.json\""
   ]
  },
  {
   "cell_type": "code",
   "execution_count": null,
   "metadata": {},
   "outputs": [],
   "source": [
    "listings_prompt = \"\"\"\n",
    "You are an experienced real estate agent with extensive knowledge of property listings across all 50 states in the U.S., \n",
    "spanning diverse neighborhoods from luxury estates to budget-friendly homes.\n",
    "\n",
    "Generate real estate listings following this schema:\n",
    "\n",
    "Neighborhood: A real neighborhood in a randomly selected city\n",
    "City: The city where the property is located\n",
    "State: The state where the property is located\n",
    "Price: The property price, ranging from $100,000 to $5,000,000\n",
    "Bedrooms: Number of bedrooms, ranging from 1 to 15\n",
    "Bathrooms: Number of bathrooms, ranging from 1 to 5\n",
    "House Size: Property size, ranging from 500 sqft to 50,000 sqft\n",
    "\n",
    "Description: A 40-word description of the house.\n",
    "Neighborhood Description: A brief description of the neighborhood.\n",
    "\n",
    "The more expensive the property, the higher the number of bedrooms and bathrooms, the larger the size, \n",
    "and the more detailed the descriptions of the property and neighborhood.\n",
    "\n",
    "Return exactly {} listings in a structured JSON format.\n",
    "\"\"\""
   ]
  },
  {
   "cell_type": "code",
   "execution_count": null,
   "metadata": {},
   "outputs": [],
   "source": [
    "def clean_json_output(response_text):\n",
    "    \"\"\"Removes Markdown JSON formatting from OpenAI output.\"\"\"\n",
    "    cleaned_text = re.sub(r\"```json\\n(.*)\\n```\", r\"\\1\", response_text, flags=re.DOTALL)\n",
    "    return cleaned_text\n",
    "\n",
    "def generate_listings(batch_size):\n",
    "    \"\"\"Generates a batch of real estate listings.\"\"\"\n",
    "    try:\n",
    "        response = openai.ChatCompletion.create(\n",
    "            model=\"gpt-3.5-turbo\",\n",
    "            messages=[\n",
    "                {\"role\": \"system\", \"content\": \"You are an experienced real estate agent.\"},\n",
    "                {\"role\": \"user\", \"content\": listings_prompt.format(batch_size)}\n",
    "            ],\n",
    "            temperature=0.7\n",
    "        )\n",
    "\n",
    "        raw_output = response[\"choices\"][0][\"message\"][\"content\"]\n",
    "        clean_output = clean_json_output(raw_output)  # Remove ` ```json ` wrapping\n",
    "        return json.loads(clean_output)[\"listings\"]  # Extract listings from JSON\n",
    "    except Exception as e:\n",
    "        print(f\"Error occurred: {e}\")\n",
    "        return []\n"
   ]
  },
  {
   "cell_type": "code",
   "execution_count": null,
   "metadata": {},
   "outputs": [],
   "source": [
    "\n",
    "# Generate listings in batches and append to file\n",
    "all_listings = []\n",
    "for _ in range(1):\n",
    "    batch = generate_listings(50)\n",
    "    if batch:\n",
    "        all_listings.extend(batch)\n",
    "        with open(OUTPUT_FILE, \"w\") as f:\n",
    "            json.dump(all_listings, f, indent=4)\n",
    "    time.sleep(1)  # Avoid rate limits\n",
    "\n",
    "print(f\"✅ Successfully generated {len(all_listings)} listings and saved to {OUTPUT_FILE}\")"
   ]
  },
  {
   "cell_type": "code",
   "execution_count": null,
   "metadata": {},
   "outputs": [],
   "source": [
    "batch[\"choices\"][0][\"message\"][\"content\"]\n"
   ]
  },
  {
   "cell_type": "markdown",
   "metadata": {},
   "source": [
    "# Vector DB\n"
   ]
  },
  {
   "cell_type": "code",
   "execution_count": null,
   "metadata": {},
   "outputs": [],
   "source": [
    "from langchain_openai import OpenAIEmbeddings\n",
    "import json\n",
    "from langchain.vectorstores import Chroma\n",
    "from uuid import uuid4\n",
    "from langchain_core.documents import Document\n",
    "\n",
    "listings_path = \"listings.json\"\n",
    "\n",
    "with open(listings_path, \"r\") as f:\n",
    "    listings = json.load(f)\n",
    "\n",
    "print(listings[0]) "
   ]
  },
  {
   "cell_type": "code",
   "execution_count": null,
   "metadata": {},
   "outputs": [],
   "source": [
    "# Prepare documents for ChromaDB\n",
    "documents = [\n",
    "    Document(\n",
    "        page_content=listing[\"Description\"],  # Store the main listing text\n",
    "        metadata={\n",
    "            \"id\": str(uuid4()),  # Generate a unique ID\n",
    "            \"neighborhood\": listing[\"Neighborhood\"],\n",
    "            \"city\": listing[\"City\"],\n",
    "            \"state\": listing[\"State\"],\n",
    "            \"price\": listing[\"Price\"],\n",
    "            \"bedrooms\": listing[\"Bedrooms\"],\n",
    "            \"bathrooms\": listing[\"Bathrooms\"],\n",
    "            \"house_size\": listing[\"House Size\"],\n",
    "            \"neighborhood_description\": listing[\"Neighborhood Description\"],\n",
    "        }\n",
    "    )\n",
    "    for listing in listings\n",
    "]\n",
    "\n",
    "# Check the first document\n",
    "print(documents[10])"
   ]
  },
  {
   "cell_type": "markdown",
   "metadata": {},
   "source": [
    "# TESTING GRADIO\n"
   ]
  },
  {
   "cell_type": "code",
   "execution_count": null,
   "metadata": {},
   "outputs": [],
   "source": [
    "import gradio as gr\n",
    "import os\n",
    "\n",
    "import time  # Debugging execution time\n",
    "\n",
    "def search_houses(state, city, house_size, max_price, num_bedrooms, amenities, description):\n",
    "    start_time = time.time()  # Start timing\n",
    "\n",
    "    # Dummy results in the correct format\n",
    "    results = [\n",
    "        [\"https://via.placeholder.com/300\",  # Image URL\n",
    "         f\"🏡 House in {city}, {state}\",      # Title\n",
    "         f\"Size: {house_size} sq ft, Bedrooms: {num_bedrooms}, Price: ${max_price}, \"\n",
    "         f\"Amenities: {', '.join(amenities) if amenities else 'No specific amenities selected'}\"]\n",
    "    ]\n",
    "\n",
    "    end_time = time.time()  # End timing\n",
    "    print(f\"Search function executed in {end_time - start_time:.3f} seconds\")  # Debugging output\n",
    "\n",
    "    return results  # Must be a list of lists (or tuples)\n",
    "\n",
    "# List of available amenities\n",
    "amenities_list = [\"Pool\", \"Garage\", \"Garden\", \"Gym\", \"Fireplace\", \"Balcony\"]\n",
    "\n",
    "# Gradio Interface\n",
    "with gr.Blocks() as demo:\n",
    "    # Welcome message\n",
    "    gr.Markdown(\"## Welcome to HomeMatch 🏡\\nFill in your preferences below and hit 'Search' to find your perfect home!\")\n",
    "\n",
    "    with gr.Row():\n",
    "        state = gr.Textbox(label=\"State\", placeholder=\"Enter the state (e.g., California)\")\n",
    "        city = gr.Textbox(label=\"City\", placeholder=\"Enter the city (e.g., San Francisco)\")\n",
    "\n",
    "    with gr.Row():\n",
    "        house_size = gr.Textbox(label=\"House Size (sq ft)\", placeholder=\"e.g., 2000\")\n",
    "        max_price = gr.Textbox(label=\"Maximum Price\", placeholder=\"e.g., 500000\")\n",
    "\n",
    "    with gr.Row():\n",
    "        num_bedrooms = gr.Slider(1, 10, step=1, label=\"Number of Bedrooms\", value=3)\n",
    "\n",
    "    amenities = gr.CheckboxGroup(amenities_list, label=\"Select Amenities\")\n",
    "\n",
    "    description = gr.Textbox(label=\"Description\", placeholder=\"Additional details about the house...\")\n",
    "\n",
    "    search_button = gr.Button(\"Search\")\n",
    "\n",
    "    # Output Display\n",
    "    results_output = gr.Gallery(label=\"Search Results\")\n",
    "\n",
    "    # Button Click Action\n",
    "    search_button.click(\n",
    "        search_houses,\n",
    "        inputs=[state, city, house_size, max_price, num_bedrooms, amenities, description],\n",
    "        outputs=results_output\n",
    "    )\n",
    "\n",
    "# Launch the Gradio app\n",
    "demo.launch(debug=True)"
   ]
  },
  {
   "cell_type": "code",
   "execution_count": null,
   "metadata": {},
   "outputs": [],
   "source": [
    "print(search_houses(\"California\", \"San Francisco\", \"2000\", \"500000\", 3, [\"Pool\", \"Garage\"], \"Nice house\"))\n"
   ]
  },
  {
   "cell_type": "code",
   "execution_count": null,
   "metadata": {},
   "outputs": [],
   "source": []
  }
 ],
 "metadata": {
  "kernelspec": {
   "display_name": "Python [conda env:base] *",
   "language": "python",
   "name": "conda-base-py"
  },
  "language_info": {
   "codemirror_mode": {
    "name": "ipython",
    "version": 3
   },
   "file_extension": ".py",
   "mimetype": "text/x-python",
   "name": "python",
   "nbconvert_exporter": "python",
   "pygments_lexer": "ipython3",
   "version": "3.12.2"
  }
 },
 "nbformat": 4,
 "nbformat_minor": 4
}
